{
 "cells": [
  {
   "cell_type": "code",
   "execution_count": null,
   "id": "4b7991dc-1f94-47dd-a1dd-c6c98a0fa2be",
   "metadata": {},
   "outputs": [],
   "source": [
    "import matplotlib\n",
    "print(matplotlib.__version__)\n",
    "import numpy as np\n",
    "from matplotlib import pyplot as plt\n",
    "x_data = [ 338.,  333.,  328. , 207. , 226.  , 25. , 179. ,  60. , 208.,  606.]\n",
    "y_data = [  640.  , 633. ,  619.  , 393.  , 428. ,   27.  , 193.  ,  66. ,  226. , 1591.]\n",
    "# ydata =b + w * xdata"
   ]
  },
  {
   "cell_type": "code",
   "execution_count": null,
   "id": "a7748358-c443-4ebd-82d2-6b9b520a353a",
   "metadata": {},
   "outputs": [],
   "source": [
    "x = np.arange(-200,-100,1) #bias\n",
    "y = np.arange(-5,5,0.1) #weight\n",
    "Z =  np.zeros((len(x), len(y)))\n",
    "X, Y = np.meshgrid(x, y)\n",
    "for i in range(len(x)):\n",
    "    for j in range(len(y)):\n",
    "        b = x[i]\n",
    "        w = y[j]\n",
    "        Z[j][i] = 0\n",
    "        for n in range(len(x_data)):\n",
    "            Z[j][i] = Z[j][i] +  (y_data[n] - b - w*x_data[n])**2\n",
    "        Z[j][i] = Z[j][i]/len(x_data)"
   ]
  },
  {
   "cell_type": "code",
   "execution_count": null,
   "id": "f8ab9caa-1f7d-41f4-85d0-68bb474be665",
   "metadata": {},
   "outputs": [],
   "source": [
    "# ydata =b + w * xdata\n",
    "b = -120 # initial b\n",
    "w = -4 # initial w\n",
    "lr = 1 # learning rate\n",
    "iteration = 100000\n",
    "b_lr = 0.0\n",
    "w_lr = 0.0"
   ]
  },
  {
   "cell_type": "code",
   "execution_count": null,
   "id": "66b4fb82-e3e7-48ea-88a7-8c66e844ae8a",
   "metadata": {},
   "outputs": [],
   "source": [
    "# Store initial values for plotting.\n",
    "b_history = [b]\n",
    "w_history = [w]"
   ]
  },
  {
   "cell_type": "code",
   "execution_count": null,
   "id": "7ec2d5da-1539-4e60-aefd-1f7457581974",
   "metadata": {},
   "outputs": [],
   "source": [
    "# Iterations\n",
    "for i in range(iteration):\n",
    "    b_grad = 0.0\n",
    "    w_grad = 0.0\n",
    "    for n in range(len(x_data)):\n",
    "        b_grad = b_grad  - 2.0*(y_data[n] - b - w*x_data[n])*1.0\n",
    "        w_grad = w_grad  - 2.0*(y_data[n] - b - w*x_data[n])*x_data[n]\n",
    "    b_lr = b_lr + b_grad**2\n",
    "    w_lr = w_lr + w_grad**2\n",
    "    # Update parameters.\n",
    "    b = b - lr/np.sqrt(b_lr) * b_grad\n",
    "    w = w - lr/np.sqrt(w_lr) * w_grad\n",
    "    # Store parameters for plotting\n",
    "    b_history.append(b)\n",
    "    w_history.append(w)"
   ]
  },
  {
   "cell_type": "code",
   "execution_count": null,
   "id": "c2067e0b-d8ea-48a1-a8ea-c44fc0b8e010",
   "metadata": {},
   "outputs": [],
   "source": [
    "# plot the figure\n",
    "\n",
    "plt.contourf(x,y,Z, 50, alpha=0.5, cmap=plt.get_cmap('jet'))\n",
    "plt.plot([-188.4], [2.67], 'x', ms=12, markeredgewidth=3, color='orange')\n",
    "plt.plot(b_history, w_history, 'o-', ms=3, lw=1.5, color='black')\n",
    "plt.xlim(-200,-100)\n",
    "plt.ylim(-5,5)\n",
    "plt.xlabel(r'$b$', fontsize=16)\n",
    "plt.ylabel(r'$w$', fontsize=16)\n",
    "plt.show()"
   ]
  }
 ],
 "metadata": {
  "kernelspec": {
   "display_name": "Python 3",
   "language": "python",
   "name": "python3"
  },
  "language_info": {
   "codemirror_mode": {
    "name": "ipython",
    "version": 3
   },
   "file_extension": ".py",
   "mimetype": "text/x-python",
   "name": "python",
   "nbconvert_exporter": "python",
   "pygments_lexer": "ipython3",
   "version": "3.6.9"
  }
 },
 "nbformat": 4,
 "nbformat_minor": 5
}
